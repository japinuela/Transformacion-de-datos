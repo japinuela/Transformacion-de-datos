{
 "cells": [
  {
   "cell_type": "code",
   "execution_count": 3,
   "id": "7508ef65",
   "metadata": {},
   "outputs": [],
   "source": [
    "import pandas as pd\n",
    "import plotly.express as px"
   ]
  },
  {
   "cell_type": "code",
   "execution_count": 5,
   "id": "be8c71fe",
   "metadata": {},
   "outputs": [
    {
     "name": "stdout",
     "output_type": "stream",
     "text": [
      "<class 'pandas.core.frame.DataFrame'>\n",
      "RangeIndex: 5383 entries, 0 to 5382\n",
      "Data columns (total 4 columns):\n",
      " #   Column                    Non-Null Count  Dtype  \n",
      "---  ------                    --------------  -----  \n",
      " 0   Puntaje crediticio        5383 non-null   float64\n",
      " 1   Ingresos mensuales (USD)  5383 non-null   float64\n",
      " 2   Monto del préstamo (USD)  5383 non-null   float64\n",
      " 3   ¿Default/No default?      5383 non-null   int64  \n",
      "dtypes: float64(3), int64(1)\n",
      "memory usage: 168.3 KB\n",
      "\n",
      "\n",
      "   Puntaje crediticio  Ingresos mensuales (USD)  Monto del préstamo (USD)  \\\n",
      "0                 5.3                    6074.6                   34159.9   \n",
      "1                 4.1                    4955.0                   35168.6   \n",
      "2                 4.4                    4573.6                   26852.8   \n",
      "3                 3.1                    6019.0                   31500.9   \n",
      "4                 5.0                    1481.1                   38094.6   \n",
      "\n",
      "   ¿Default/No default?  \n",
      "0                     0  \n",
      "1                     0  \n",
      "2                     0  \n",
      "3                     0  \n",
      "4                     1  \n",
      "\n",
      "\n"
     ]
    },
    {
     "data": {
      "text/html": [
       "<div>\n",
       "<style scoped>\n",
       "    .dataframe tbody tr th:only-of-type {\n",
       "        vertical-align: middle;\n",
       "    }\n",
       "\n",
       "    .dataframe tbody tr th {\n",
       "        vertical-align: top;\n",
       "    }\n",
       "\n",
       "    .dataframe thead th {\n",
       "        text-align: right;\n",
       "    }\n",
       "</style>\n",
       "<table border=\"1\" class=\"dataframe\">\n",
       "  <thead>\n",
       "    <tr style=\"text-align: right;\">\n",
       "      <th></th>\n",
       "      <th>Puntaje crediticio</th>\n",
       "      <th>Ingresos mensuales (USD)</th>\n",
       "      <th>Monto del préstamo (USD)</th>\n",
       "      <th>¿Default/No default?</th>\n",
       "    </tr>\n",
       "  </thead>\n",
       "  <tbody>\n",
       "    <tr>\n",
       "      <th>count</th>\n",
       "      <td>5383.000000</td>\n",
       "      <td>5383.000000</td>\n",
       "      <td>5383.000000</td>\n",
       "      <td>5383.000000</td>\n",
       "    </tr>\n",
       "    <tr>\n",
       "      <th>mean</th>\n",
       "      <td>3.244380</td>\n",
       "      <td>3972.193721</td>\n",
       "      <td>37198.871540</td>\n",
       "      <td>0.507152</td>\n",
       "    </tr>\n",
       "    <tr>\n",
       "      <th>std</th>\n",
       "      <td>1.973642</td>\n",
       "      <td>1948.479996</td>\n",
       "      <td>7859.814765</td>\n",
       "      <td>0.499995</td>\n",
       "    </tr>\n",
       "    <tr>\n",
       "      <th>min</th>\n",
       "      <td>0.000000</td>\n",
       "      <td>1.400000</td>\n",
       "      <td>20023.400000</td>\n",
       "      <td>0.000000</td>\n",
       "    </tr>\n",
       "    <tr>\n",
       "      <th>25%</th>\n",
       "      <td>1.600000</td>\n",
       "      <td>2410.300000</td>\n",
       "      <td>31621.600000</td>\n",
       "      <td>0.000000</td>\n",
       "    </tr>\n",
       "    <tr>\n",
       "      <th>50%</th>\n",
       "      <td>3.200000</td>\n",
       "      <td>4416.400000</td>\n",
       "      <td>38418.300000</td>\n",
       "      <td>1.000000</td>\n",
       "    </tr>\n",
       "    <tr>\n",
       "      <th>75%</th>\n",
       "      <td>4.800000</td>\n",
       "      <td>5584.300000</td>\n",
       "      <td>43114.000000</td>\n",
       "      <td>1.000000</td>\n",
       "    </tr>\n",
       "    <tr>\n",
       "      <th>max</th>\n",
       "      <td>7.500000</td>\n",
       "      <td>6997.800000</td>\n",
       "      <td>49991.100000</td>\n",
       "      <td>1.000000</td>\n",
       "    </tr>\n",
       "  </tbody>\n",
       "</table>\n",
       "</div>"
      ],
      "text/plain": [
       "       Puntaje crediticio  Ingresos mensuales (USD)  Monto del préstamo (USD)  \\\n",
       "count         5383.000000               5383.000000               5383.000000   \n",
       "mean             3.244380               3972.193721              37198.871540   \n",
       "std              1.973642               1948.479996               7859.814765   \n",
       "min              0.000000                  1.400000              20023.400000   \n",
       "25%              1.600000               2410.300000              31621.600000   \n",
       "50%              3.200000               4416.400000              38418.300000   \n",
       "75%              4.800000               5584.300000              43114.000000   \n",
       "max              7.500000               6997.800000              49991.100000   \n",
       "\n",
       "       ¿Default/No default?  \n",
       "count           5383.000000  \n",
       "mean               0.507152  \n",
       "std                0.499995  \n",
       "min                0.000000  \n",
       "25%                0.000000  \n",
       "50%                1.000000  \n",
       "75%                1.000000  \n",
       "max                1.000000  "
      ]
     },
     "execution_count": 5,
     "metadata": {},
     "output_type": "execute_result"
    }
   ],
   "source": [
    "df = pd.read_csv('./datasets/dataset_default.csv')\n",
    "df.info()\n",
    "print(\"\\n\")\n",
    "print(df.head())\n",
    "print(\"\\n\")\n",
    "df.describe()"
   ]
  },
  {
   "cell_type": "code",
   "execution_count": 6,
   "id": "73c56316",
   "metadata": {},
   "outputs": [
    {
     "data": {
      "image/png": "[encoded data removed]",
      "text/plain": [
       "<Figure size 640x480 with 1 Axes>"
      ]
     },
     "metadata": {},
     "output_type": "display_data"
    }
   ],
   "source": [
    "import seaborn as sns\n",
    "import matplotlib.pyplot as plt\n",
    "\n",
    "sns.countplot(x='¿Default/No default?', data=df)\n",
    "plt.xlabel('Default (1) vs No Default (0)')\n",
    "plt.ylabel('Count')\n",
    "plt.title('Number of Cases')\n",
    "plt.show()"
   ]
  },
  {
   "cell_type": "code",
   "execution_count": 15,
   "id": "2cf7eb70",
   "metadata": {},
   "outputs": [],
   "source": [
    "import plotly.io as pio\n",
    "pio.renderers.default = \"browser\"\n",
    "fig = px.scatter_3d(df, x='Puntaje crediticio', y='Ingresos mensuales (USD)',\n",
    "                    z='Monto del préstamo (USD)', color='¿Default/No default?',\n",
    "                    size_max=6, opacity = 0.5)\n",
    "fig.show()"
   ]
  },
  {
   "cell_type": "code",
   "execution_count": null,
   "id": "5064e8b9",
   "metadata": {},
   "outputs": [
    {
     "data": {
      "text/plain": [
       "(array([[5.30000e+00, 6.07460e+03, 3.41599e+04],\n",
       "        [4.10000e+00, 4.95500e+03, 3.51686e+04],\n",
       "        [4.40000e+00, 4.57360e+03, 2.68528e+04],\n",
       "        ...,\n",
       "        [6.40000e+00, 6.81200e+02, 4.44232e+04],\n",
       "        [2.50000e+00, 5.17200e+03, 2.48329e+04],\n",
       "        [7.10000e+00, 3.55610e+03, 4.60615e+04]], shape=(5383, 3)),\n",
       " array([0, 0, 0, ..., 1, 0, 1], shape=(5383,)))"
      ]
     },
     "execution_count": 7,
     "metadata": {},
     "output_type": "execute_result"
    }
   ],
   "source": [
    "#Entradas por un lado y salida por otro. Observar la diferencia de escala entre variables explicaticas\n",
    "X = df.iloc[:,0:3].to_numpy()\n",
    "Y = df.iloc[:,3].to_numpy()\n",
    "X,Y"
   ]
  },
  {
   "cell_type": "code",
   "execution_count": 8,
   "id": "d731f448",
   "metadata": {},
   "outputs": [
    {
     "name": "stdout",
     "output_type": "stream",
     "text": [
      "(3768, 3) (3768,)\n",
      "(807, 3) (807,)\n",
      "(808, 3) (808,)\n"
     ]
    }
   ],
   "source": [
    "from sklearn.model_selection import train_test_split\n",
    "\n",
    "def crear_train_val_test(X,Y):\n",
    "    '''Crear los sets de entrenamiento (70%), validación (15%)\n",
    "    y prueba (15%)'''\n",
    "    xtr, x_resto, ytr, y_resto = train_test_split(X, Y, test_size=0.3,\n",
    "                                                  random_state=22)\n",
    "    xvl, xts, yvl, yts = train_test_split(x_resto, y_resto, test_size=0.5,\n",
    "                                          random_state=22)\n",
    "\n",
    "    return xtr, ytr, xvl, yvl, xts, yts\n",
    "\n",
    "# Ejecutar la función\n",
    "x_train, y_train, x_val, y_val, x_test, y_test = crear_train_val_test(X,Y)\n",
    "\n",
    "# Verificar\n",
    "print(x_train.shape, y_train.shape)\n",
    "print(x_val.shape, y_val.shape)\n",
    "print(x_test.shape, y_test.shape)"
   ]
  },
  {
   "cell_type": "code",
   "execution_count": 11,
   "id": "5eec0c0a",
   "metadata": {},
   "outputs": [
    {
     "name": "stdout",
     "output_type": "stream",
     "text": [
      "Desempeño SIN escalamiento de los datos de entrada: \n"
     ]
    },
    {
     "name": "stderr",
     "output_type": "stream",
     "text": [
      "c:\\Proyectos\\PythonML\\Clase\\.venv\\Lib\\site-packages\\keras\\src\\layers\\reshaping\\flatten.py:37: UserWarning: Do not pass an `input_shape`/`input_dim` argument to a layer. When using Sequential models, prefer using an `Input(shape)` object as the first layer in the model instead.\n",
      "  super().__init__(**kwargs)\n"
     ]
    },
    {
     "name": "stdout",
     "output_type": "stream",
     "text": [
      "Exactitud entrenamiento/validación: 51.09% / 49.07%\n"
     ]
    }
   ],
   "source": [
    "import tensorflow as tf\n",
    "\n",
    "def neurona_entrenar_validar(x_tr, y_tr, x_vl, y_vl):\n",
    "    '''Crea y entrena una neurona artificial en Keras, con estas características:\n",
    "    - Tamaño de la entrada: 3x1\n",
    "    - Tamaño de la capa oculta: 2 neuronas\n",
    "    - Tamaño de la salida: 1 neurona (default/no default)'''\n",
    "\n",
    "    # Fijar semilla del generador aleatorio\n",
    "    tf.keras.utils.set_random_seed(45)\n",
    "\n",
    "    # Crear las neuronas del modelo\n",
    "    modelo = tf.keras.models.Sequential([\n",
    "        tf.keras.layers.Flatten(input_shape=(3,1)), # Entrada\n",
    "        tf.keras.layers.Dense(2, activation='relu'), # Capa oculta\n",
    "        tf.keras.layers.Dense(1, activation='sigmoid') # Salida\n",
    "        ])\n",
    "\n",
    "    # Compilar el modelo\n",
    "    modelo.compile(optimizer='sgd',\n",
    "                    loss='BinaryCrossentropy',\n",
    "                    metrics = ['accuracy'])\n",
    "\n",
    "    # Entrenarlo\n",
    "    modelo.fit(x_tr, y_tr, epochs=5, verbose=0)\n",
    "\n",
    "    # Validarlo\n",
    "    train_loss, train_acc = modelo.evaluate(x_tr, y_tr, verbose=0)\n",
    "    val_loss, val_acc = modelo.evaluate(x_vl, y_vl, verbose=0)\n",
    "\n",
    "    # Imprimir resultado en pantalla\n",
    "    print(f'Exactitud entrenamiento/validación: {100*train_acc:.2f}% / {100*val_acc:.2f}%')\n",
    "\n",
    "\n",
    "    return modelo\n",
    "\n",
    "# Sin escalamiento\n",
    "print('Desempeño SIN escalamiento de los datos de entrada: ')\n",
    "red = neurona_entrenar_validar(x_train, y_train, x_val, y_val)"
   ]
  },
  {
   "cell_type": "code",
   "execution_count": 12,
   "id": "d79ca89d",
   "metadata": {},
   "outputs": [
    {
     "name": "stdout",
     "output_type": "stream",
     "text": [
      "[0. 0. 0.] [1. 1. 1.]\n",
      "[ 0.          0.00147219 -0.00060112] [1.         0.99745583 0.99843041]\n",
      "[0.         0.00012864 0.00688616] [1.         1.         1.00018702]\n"
     ]
    }
   ],
   "source": [
    "# Haremos escalamiento entre 0 y 1 (normalización)\n",
    "from sklearn.preprocessing import MinMaxScaler\n",
    "\n",
    "def escalar_datos(xtr, xvl, xts):\n",
    "    '''Escalar datos de entrada (entrenamiento, validación y prueba)\n",
    "    en el rango de 0 a 1'''\n",
    "    scaler = MinMaxScaler()\n",
    "\n",
    "    # Fit + transform sobre el set de entrenamiento\n",
    "    xtr_s = scaler.fit_transform(xtr)\n",
    "\n",
    "    # Transform sobre prueba y validación\n",
    "    xvl_s = scaler.transform(xvl)\n",
    "    xts_s = scaler.transform(xts)\n",
    "\n",
    "    return xtr_s, xvl_s, xts_s\n",
    "\n",
    "# Ejecutar la función\n",
    "x_train_s, x_val_s, x_test_s = escalar_datos(x_train, x_val, x_test)\n",
    "\n",
    "# Verificar\n",
    "print(x_train_s.min(axis=0),x_train_s.max(axis=0))\n",
    "print(x_val_s.min(axis=0),x_val_s.max(axis=0))\n",
    "print(x_test_s.min(axis=0),x_test_s.max(axis=0))"
   ]
  },
  {
   "cell_type": "code",
   "execution_count": 13,
   "id": "a49e7d49",
   "metadata": {},
   "outputs": [
    {
     "name": "stdout",
     "output_type": "stream",
     "text": [
      "----------------------------------------\n",
      "Desempeño CON escalamiento de los datos de entrada: \n"
     ]
    },
    {
     "name": "stderr",
     "output_type": "stream",
     "text": [
      "c:\\Proyectos\\PythonML\\Clase\\.venv\\Lib\\site-packages\\keras\\src\\layers\\reshaping\\flatten.py:37: UserWarning: Do not pass an `input_shape`/`input_dim` argument to a layer. When using Sequential models, prefer using an `Input(shape)` object as the first layer in the model instead.\n",
      "  super().__init__(**kwargs)\n"
     ]
    },
    {
     "name": "stdout",
     "output_type": "stream",
     "text": [
      "Exactitud entrenamiento/validación: 91.08% / 91.70%\n"
     ]
    }
   ],
   "source": [
    "# Con escalamiento\n",
    "print('-'*40)\n",
    "print('Desempeño CON escalamiento de los datos de entrada: ')\n",
    "red_s = neurona_entrenar_validar(x_train_s, y_train, x_val_s, y_val)"
   ]
  }
 ],
 "metadata": {
  "kernelspec": {
   "display_name": ".venv",
   "language": "python",
   "name": "python3"
  },
  "language_info": {
   "codemirror_mode": {
    "name": "ipython",
    "version": 3
   },
   "file_extension": ".py",
   "mimetype": "text/x-python",
   "name": "python",
   "nbconvert_exporter": "python",
   "pygments_lexer": "ipython3",
   "version": "3.13.5"
  }
 },
 "nbformat": 4,
 "nbformat_minor": 5
}
